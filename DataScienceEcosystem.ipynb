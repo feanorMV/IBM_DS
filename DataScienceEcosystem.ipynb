{
 "cells": [
  {
   "cell_type": "markdown",
   "id": "004c4814-c3b5-4821-ad55-74de2cacf2ab",
   "metadata": {},
   "source": [
    "# Data Science Tools and Ecosystem"
   ]
  },
  {
   "cell_type": "markdown",
   "id": "3b72dd79-521c-45da-9037-07029a9fd380",
   "metadata": {},
   "source": [
    "In this notebook, Data Science Tools and Ecosystem are summarize"
   ]
  },
  {
   "cell_type": "markdown",
   "id": "809d8a7b-9cfc-487c-88fc-565857b890db",
   "metadata": {},
   "source": [
    "Some of the popular languages that Data Scientists use are:\r\n",
    "1. Python\r\n",
    "2. R\r\n",
    "3. QL\r\n"
   ]
  },
  {
   "cell_type": "markdown",
   "id": "a52ef9de-ecf9-432a-8901-002ed5ca6a99",
   "metadata": {},
   "source": [
    "Some of the commonly used libraries used by Data Scientists include:\r\n",
    "1. Pandas\r\n",
    "2. NumPy\r\n",
    "3. Scikit-lern\r\n"
   ]
  },
  {
   "cell_type": "markdown",
   "id": "ee059397-b307-4a09-9d4b-837a451df571",
   "metadata": {},
   "source": [
    "| Data Science Tools |\r\n",
    "|--------------------|\r\n",
    "| Jupyter Notebook   |\r\n",
    "| RStudio            |\r\n",
    "| Apache Zeppelin    |\r\n"
   ]
  },
  {
   "cell_type": "markdown",
   "id": "ae1ca3d4-15ea-4520-aa82-01d203f00013",
   "metadata": {},
   "source": [
    "### Below are a few examples of evaluating arithmetic expressions in Python."
   ]
  },
  {
   "cell_type": "code",
   "execution_count": 9,
   "id": "cc2eb2c1-5392-4791-bc8f-1697707d7a83",
   "metadata": {},
   "outputs": [
    {
     "data": {
      "text/plain": [
       "17"
      ]
     },
     "execution_count": 9,
     "metadata": {},
     "output_type": "execute_result"
    }
   ],
   "source": [
    "# This is a simple arithmetic expression to multiply and then add integers\n",
    "(3 * 4) + 5"
   ]
  },
  {
   "cell_type": "code",
   "execution_count": 10,
   "id": "7ab79704-8142-4af8-b44e-7b049e5c334d",
   "metadata": {},
   "outputs": [
    {
     "data": {
      "text/plain": [
       "3.3333333333333335"
      ]
     },
     "execution_count": 10,
     "metadata": {},
     "output_type": "execute_result"
    }
   ],
   "source": [
    "# This will convert 200 minutes to hours by dividing by 60\n",
    "minutes = 200\n",
    "hours = minutes / 60\n",
    "hours"
   ]
  },
  {
   "cell_type": "markdown",
   "id": "544913ee-c97c-4cfa-b914-52755b1f0c70",
   "metadata": {},
   "source": [
    "**Objectives:**\n",
    "- Create a Jupyter Notebook and use Markdown and code cells\n",
    "- List popular languages and libraries for Data Science\n",
    "- Demonstrate arithmetic operations in Python\n",
    "- Convert units and display results"
   ]
  },
  {
   "cell_type": "markdown",
   "id": "dcfa283a-e178-4530-8d47-cce8732ba788",
   "metadata": {},
   "source": [
    "## Author\n",
    "Mykhailo Vasianovych"
   ]
  }
 ],
 "metadata": {
  "kernelspec": {
   "display_name": "Python 3 (ipykernel)",
   "language": "python",
   "name": "python3"
  },
  "language_info": {
   "codemirror_mode": {
    "name": "ipython",
    "version": 3
   },
   "file_extension": ".py",
   "mimetype": "text/x-python",
   "name": "python",
   "nbconvert_exporter": "python",
   "pygments_lexer": "ipython3",
   "version": "3.12.1"
  }
 },
 "nbformat": 4,
 "nbformat_minor": 5
}
